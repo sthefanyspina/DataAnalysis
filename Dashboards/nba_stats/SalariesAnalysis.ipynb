{
 "cells": [
  {
   "cell_type": "code",
   "execution_count": 1,
   "id": "970cf2e2-8c69-4dc7-bc49-b7b0917ceff3",
   "metadata": {},
   "outputs": [],
   "source": [
    "import pandas as pd"
   ]
  },
  {
   "cell_type": "code",
   "execution_count": 2,
   "id": "f15d67fc-936a-4ae0-b18a-5a7a4970e377",
   "metadata": {},
   "outputs": [],
   "source": [
    "df = pd.read_csv('salaries_1985to2018.csv')"
   ]
  },
  {
   "cell_type": "code",
   "execution_count": 3,
   "id": "a67bbb13-81a7-49da-9319-60ea1ebad7c2",
   "metadata": {},
   "outputs": [
    {
     "data": {
      "text/html": [
       "<div>\n",
       "<style scoped>\n",
       "    .dataframe tbody tr th:only-of-type {\n",
       "        vertical-align: middle;\n",
       "    }\n",
       "\n",
       "    .dataframe tbody tr th {\n",
       "        vertical-align: top;\n",
       "    }\n",
       "\n",
       "    .dataframe thead th {\n",
       "        text-align: right;\n",
       "    }\n",
       "</style>\n",
       "<table border=\"1\" class=\"dataframe\">\n",
       "  <thead>\n",
       "    <tr style=\"text-align: right;\">\n",
       "      <th></th>\n",
       "      <th>league</th>\n",
       "      <th>player_id</th>\n",
       "      <th>salary</th>\n",
       "      <th>season</th>\n",
       "      <th>season_end</th>\n",
       "      <th>season_start</th>\n",
       "      <th>team</th>\n",
       "    </tr>\n",
       "  </thead>\n",
       "  <tbody>\n",
       "    <tr>\n",
       "      <th>0</th>\n",
       "      <td>NBA</td>\n",
       "      <td>abdelal01</td>\n",
       "      <td>395000</td>\n",
       "      <td>1990-91</td>\n",
       "      <td>1991</td>\n",
       "      <td>1990</td>\n",
       "      <td>Portland Trail Blazers</td>\n",
       "    </tr>\n",
       "    <tr>\n",
       "      <th>1</th>\n",
       "      <td>NBA</td>\n",
       "      <td>abdelal01</td>\n",
       "      <td>494000</td>\n",
       "      <td>1991-92</td>\n",
       "      <td>1992</td>\n",
       "      <td>1991</td>\n",
       "      <td>Portland Trail Blazers</td>\n",
       "    </tr>\n",
       "    <tr>\n",
       "      <th>2</th>\n",
       "      <td>NBA</td>\n",
       "      <td>abdelal01</td>\n",
       "      <td>500000</td>\n",
       "      <td>1992-93</td>\n",
       "      <td>1993</td>\n",
       "      <td>1992</td>\n",
       "      <td>Boston Celtics</td>\n",
       "    </tr>\n",
       "    <tr>\n",
       "      <th>3</th>\n",
       "      <td>NBA</td>\n",
       "      <td>abdelal01</td>\n",
       "      <td>805000</td>\n",
       "      <td>1993-94</td>\n",
       "      <td>1994</td>\n",
       "      <td>1993</td>\n",
       "      <td>Boston Celtics</td>\n",
       "    </tr>\n",
       "    <tr>\n",
       "      <th>4</th>\n",
       "      <td>NBA</td>\n",
       "      <td>abdelal01</td>\n",
       "      <td>650000</td>\n",
       "      <td>1994-95</td>\n",
       "      <td>1995</td>\n",
       "      <td>1994</td>\n",
       "      <td>Sacramento Kings</td>\n",
       "    </tr>\n",
       "  </tbody>\n",
       "</table>\n",
       "</div>"
      ],
      "text/plain": [
       "  league  player_id  salary   season  season_end  season_start  \\\n",
       "0    NBA  abdelal01  395000  1990-91        1991          1990   \n",
       "1    NBA  abdelal01  494000  1991-92        1992          1991   \n",
       "2    NBA  abdelal01  500000  1992-93        1993          1992   \n",
       "3    NBA  abdelal01  805000  1993-94        1994          1993   \n",
       "4    NBA  abdelal01  650000  1994-95        1995          1994   \n",
       "\n",
       "                     team  \n",
       "0  Portland Trail Blazers  \n",
       "1  Portland Trail Blazers  \n",
       "2          Boston Celtics  \n",
       "3          Boston Celtics  \n",
       "4        Sacramento Kings  "
      ]
     },
     "execution_count": 3,
     "metadata": {},
     "output_type": "execute_result"
    }
   ],
   "source": [
    "df.head()"
   ]
  },
  {
   "cell_type": "code",
   "execution_count": 4,
   "id": "609cb226-1f64-4901-a8b4-c43d4ec80b0e",
   "metadata": {},
   "outputs": [
    {
     "name": "stdout",
     "output_type": "stream",
     "text": [
      "<class 'pandas.core.frame.DataFrame'>\n",
      "RangeIndex: 14163 entries, 0 to 14162\n",
      "Data columns (total 7 columns):\n",
      " #   Column        Non-Null Count  Dtype \n",
      "---  ------        --------------  ----- \n",
      " 0   league        14163 non-null  object\n",
      " 1   player_id     14163 non-null  object\n",
      " 2   salary        14163 non-null  int64 \n",
      " 3   season        14163 non-null  object\n",
      " 4   season_end    14163 non-null  int64 \n",
      " 5   season_start  14163 non-null  int64 \n",
      " 6   team          14159 non-null  object\n",
      "dtypes: int64(3), object(4)\n",
      "memory usage: 774.7+ KB\n"
     ]
    }
   ],
   "source": [
    "df.info()"
   ]
  },
  {
   "cell_type": "code",
   "execution_count": 5,
   "id": "3fe00a64-ec72-4d64-bfea-82e09e60ba83",
   "metadata": {},
   "outputs": [
    {
     "data": {
      "text/html": [
       "<div>\n",
       "<style scoped>\n",
       "    .dataframe tbody tr th:only-of-type {\n",
       "        vertical-align: middle;\n",
       "    }\n",
       "\n",
       "    .dataframe tbody tr th {\n",
       "        vertical-align: top;\n",
       "    }\n",
       "\n",
       "    .dataframe thead th {\n",
       "        text-align: right;\n",
       "    }\n",
       "</style>\n",
       "<table border=\"1\" class=\"dataframe\">\n",
       "  <thead>\n",
       "    <tr style=\"text-align: right;\">\n",
       "      <th></th>\n",
       "      <th>salary</th>\n",
       "      <th>season_end</th>\n",
       "      <th>season_start</th>\n",
       "    </tr>\n",
       "  </thead>\n",
       "  <tbody>\n",
       "    <tr>\n",
       "      <th>count</th>\n",
       "      <td>1.416300e+04</td>\n",
       "      <td>14163.00000</td>\n",
       "      <td>14163.00000</td>\n",
       "    </tr>\n",
       "    <tr>\n",
       "      <th>mean</th>\n",
       "      <td>3.164870e+06</td>\n",
       "      <td>2003.66942</td>\n",
       "      <td>2002.66942</td>\n",
       "    </tr>\n",
       "    <tr>\n",
       "      <th>std</th>\n",
       "      <td>4.185046e+06</td>\n",
       "      <td>9.16469</td>\n",
       "      <td>9.16469</td>\n",
       "    </tr>\n",
       "    <tr>\n",
       "      <th>min</th>\n",
       "      <td>2.706000e+03</td>\n",
       "      <td>1985.00000</td>\n",
       "      <td>1984.00000</td>\n",
       "    </tr>\n",
       "    <tr>\n",
       "      <th>25%</th>\n",
       "      <td>6.300000e+05</td>\n",
       "      <td>1996.00000</td>\n",
       "      <td>1995.00000</td>\n",
       "    </tr>\n",
       "    <tr>\n",
       "      <th>50%</th>\n",
       "      <td>1.500000e+06</td>\n",
       "      <td>2004.00000</td>\n",
       "      <td>2003.00000</td>\n",
       "    </tr>\n",
       "    <tr>\n",
       "      <th>75%</th>\n",
       "      <td>3.884239e+06</td>\n",
       "      <td>2012.00000</td>\n",
       "      <td>2011.00000</td>\n",
       "    </tr>\n",
       "    <tr>\n",
       "      <th>max</th>\n",
       "      <td>3.468255e+07</td>\n",
       "      <td>2018.00000</td>\n",
       "      <td>2017.00000</td>\n",
       "    </tr>\n",
       "  </tbody>\n",
       "</table>\n",
       "</div>"
      ],
      "text/plain": [
       "             salary   season_end  season_start\n",
       "count  1.416300e+04  14163.00000   14163.00000\n",
       "mean   3.164870e+06   2003.66942    2002.66942\n",
       "std    4.185046e+06      9.16469       9.16469\n",
       "min    2.706000e+03   1985.00000    1984.00000\n",
       "25%    6.300000e+05   1996.00000    1995.00000\n",
       "50%    1.500000e+06   2004.00000    2003.00000\n",
       "75%    3.884239e+06   2012.00000    2011.00000\n",
       "max    3.468255e+07   2018.00000    2017.00000"
      ]
     },
     "execution_count": 5,
     "metadata": {},
     "output_type": "execute_result"
    }
   ],
   "source": [
    "df.describe()"
   ]
  },
  {
   "cell_type": "code",
   "execution_count": 6,
   "id": "48f8b7ef-0bfa-4259-8ea7-e357234221c1",
   "metadata": {},
   "outputs": [
    {
     "name": "stdout",
     "output_type": "stream",
     "text": [
      "league          0\n",
      "player_id       0\n",
      "salary          0\n",
      "season          0\n",
      "season_end      0\n",
      "season_start    0\n",
      "team            4\n",
      "dtype: int64\n"
     ]
    }
   ],
   "source": [
    "print(df.isnull().sum())"
   ]
  },
  {
   "cell_type": "code",
   "execution_count": 7,
   "id": "a0f87645-ff52-4c3f-a353-26496fdc148d",
   "metadata": {},
   "outputs": [],
   "source": [
    "df_cleaned = df.dropna()"
   ]
  },
  {
   "cell_type": "code",
   "execution_count": 8,
   "id": "e67d59aa-6cba-4f71-8a88-ed4d1cf771d1",
   "metadata": {},
   "outputs": [
    {
     "name": "stdout",
     "output_type": "stream",
     "text": [
      "<class 'pandas.core.frame.DataFrame'>\n",
      "RangeIndex: 14163 entries, 0 to 14162\n",
      "Data columns (total 7 columns):\n",
      " #   Column        Non-Null Count  Dtype \n",
      "---  ------        --------------  ----- \n",
      " 0   league        14163 non-null  object\n",
      " 1   player_id     14163 non-null  object\n",
      " 2   salary        14163 non-null  int64 \n",
      " 3   season        14163 non-null  object\n",
      " 4   season_end    14163 non-null  int64 \n",
      " 5   season_start  14163 non-null  int64 \n",
      " 6   team          14159 non-null  object\n",
      "dtypes: int64(3), object(4)\n",
      "memory usage: 774.7+ KB\n"
     ]
    }
   ],
   "source": [
    "df.info()"
   ]
  },
  {
   "cell_type": "code",
   "execution_count": 9,
   "id": "df8c21ef-2296-4722-ab8b-36241342b2e7",
   "metadata": {},
   "outputs": [
    {
     "name": "stdout",
     "output_type": "stream",
     "text": [
      "league          object\n",
      "player_id       object\n",
      "salary           int64\n",
      "season          object\n",
      "season_end       int64\n",
      "season_start     int64\n",
      "team            object\n",
      "dtype: object\n"
     ]
    }
   ],
   "source": [
    "print(df.dtypes)"
   ]
  },
  {
   "cell_type": "code",
   "execution_count": 10,
   "id": "21e17b0a-4b2e-4ce5-a643-7358cb0454c3",
   "metadata": {},
   "outputs": [],
   "source": [
    "df.to_csv(\"salaries_analysis.csv\", index=False)"
   ]
  },
  {
   "cell_type": "code",
   "execution_count": null,
   "id": "a61d49fc-659c-468d-a263-e9c685ec6a7f",
   "metadata": {},
   "outputs": [],
   "source": []
  }
 ],
 "metadata": {
  "kernelspec": {
   "display_name": "Python 3 (ipykernel)",
   "language": "python",
   "name": "python3"
  },
  "language_info": {
   "codemirror_mode": {
    "name": "ipython",
    "version": 3
   },
   "file_extension": ".py",
   "mimetype": "text/x-python",
   "name": "python",
   "nbconvert_exporter": "python",
   "pygments_lexer": "ipython3",
   "version": "3.13.2"
  }
 },
 "nbformat": 4,
 "nbformat_minor": 5
}
